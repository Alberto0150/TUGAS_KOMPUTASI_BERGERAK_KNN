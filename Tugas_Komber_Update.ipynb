{
  "nbformat": 4,
  "nbformat_minor": 0,
  "metadata": {
    "colab": {
      "name": "Tugas Komber Update",
      "provenance": [],
      "collapsed_sections": [],
      "include_colab_link": true
    },
    "kernelspec": {
      "name": "python3",
      "display_name": "Python 3"
    }
  },
  "cells": [
    {
      "cell_type": "markdown",
      "metadata": {
        "id": "view-in-github",
        "colab_type": "text"
      },
      "source": [
        "<a href=\"https://colab.research.google.com/github/Alberto0150/Tugas_Komputasi_Bergerak_KNN/blob/main/Tugas_Komber_Update.ipynb\" target=\"_parent\"><img src=\"https://colab.research.google.com/assets/colab-badge.svg\" alt=\"Open In Colab\"/></a>"
      ]
    },
    {
      "cell_type": "markdown",
      "metadata": {
        "id": "QZJ04EMvl5T0"
      },
      "source": [
        "# Import Library dan mount drive"
      ]
    },
    {
      "cell_type": "code",
      "metadata": {
        "id": "UkZGONP7SREQ"
      },
      "source": [
        "# import library\n",
        "import pandas as pd\n",
        "import seaborn as sns\n",
        "import os\n",
        "import numpy as np"
      ],
      "execution_count": 59,
      "outputs": []
    },
    {
      "cell_type": "code",
      "metadata": {
        "colab": {
          "base_uri": "https://localhost:8080/"
        },
        "id": "ZastAjLpfHRY",
        "outputId": "be150631-ef36-4b1e-bec6-13926ba099e0"
      },
      "source": [
        "from google.colab import drive\n",
        "drive.mount('/content/drive')"
      ],
      "execution_count": 60,
      "outputs": [
        {
          "output_type": "stream",
          "name": "stdout",
          "text": [
            "Drive already mounted at /content/drive; to attempt to forcibly remount, call drive.mount(\"/content/drive\", force_remount=True).\n"
          ]
        }
      ]
    },
    {
      "cell_type": "code",
      "metadata": {
        "id": "71M7k9hsWl3K"
      },
      "source": [
        "os.chdir(r'/content/drive/MyDrive/Colab Notebooks')"
      ],
      "execution_count": 61,
      "outputs": []
    },
    {
      "cell_type": "code",
      "metadata": {
        "id": "PtBeq_JvOFCv",
        "colab": {
          "base_uri": "https://localhost:8080/",
          "height": 35
        },
        "outputId": "febd7328-cdd6-43a4-c74e-813ab562e097"
      },
      "source": [
        "pwd"
      ],
      "execution_count": 62,
      "outputs": [
        {
          "output_type": "execute_result",
          "data": {
            "application/vnd.google.colaboratory.intrinsic+json": {
              "type": "string"
            },
            "text/plain": [
              "'/content/drive/MyDrive/Colab Notebooks'"
            ]
          },
          "metadata": {},
          "execution_count": 62
        }
      ]
    },
    {
      "cell_type": "markdown",
      "metadata": {
        "id": "7nQv4vj8ULkc"
      },
      "source": [
        "# Load Dataset"
      ]
    },
    {
      "cell_type": "code",
      "metadata": {
        "id": "0KdoPUn3SwsX"
      },
      "source": [
        "# melakukan load dari csv ke dalam bentuk pandas dataframe\n",
        "df=pd.read_csv('Data_Accelerometer_04_11_2021-073808.csv')"
      ],
      "execution_count": 63,
      "outputs": []
    },
    {
      "cell_type": "code",
      "metadata": {
        "id": "pzAbIA6IS1vN",
        "colab": {
          "base_uri": "https://localhost:8080/",
          "height": 423
        },
        "outputId": "9542f93b-1236-4ead-c25a-e5b52dadca3c"
      },
      "source": [
        "df"
      ],
      "execution_count": 64,
      "outputs": [
        {
          "output_type": "execute_result",
          "data": {
            "text/html": [
              "<div>\n",
              "<style scoped>\n",
              "    .dataframe tbody tr th:only-of-type {\n",
              "        vertical-align: middle;\n",
              "    }\n",
              "\n",
              "    .dataframe tbody tr th {\n",
              "        vertical-align: top;\n",
              "    }\n",
              "\n",
              "    .dataframe thead th {\n",
              "        text-align: right;\n",
              "    }\n",
              "</style>\n",
              "<table border=\"1\" class=\"dataframe\">\n",
              "  <thead>\n",
              "    <tr style=\"text-align: right;\">\n",
              "      <th></th>\n",
              "      <th>X_awal</th>\n",
              "      <th>Y_awal</th>\n",
              "      <th>Z_awal</th>\n",
              "      <th>X_akhir</th>\n",
              "      <th>Y_akhir</th>\n",
              "      <th>Z_akhir</th>\n",
              "      <th>Delta_X</th>\n",
              "      <th>Delta_Y</th>\n",
              "      <th>Delta_Z</th>\n",
              "      <th>Total_Delta</th>\n",
              "      <th>Target</th>\n",
              "    </tr>\n",
              "  </thead>\n",
              "  <tbody>\n",
              "    <tr>\n",
              "      <th>0</th>\n",
              "      <td>-1.007965</td>\n",
              "      <td>5.667069</td>\n",
              "      <td>7.357376</td>\n",
              "      <td>-0.086197</td>\n",
              "      <td>5.535400</td>\n",
              "      <td>7.608780</td>\n",
              "      <td>0.921768</td>\n",
              "      <td>-0.131668</td>\n",
              "      <td>0.251404</td>\n",
              "      <td>1.041504</td>\n",
              "      <td>1</td>\n",
              "    </tr>\n",
              "    <tr>\n",
              "      <th>1</th>\n",
              "      <td>-0.086197</td>\n",
              "      <td>5.535400</td>\n",
              "      <td>7.608780</td>\n",
              "      <td>0.411804</td>\n",
              "      <td>5.295975</td>\n",
              "      <td>8.425201</td>\n",
              "      <td>0.498001</td>\n",
              "      <td>-0.239426</td>\n",
              "      <td>0.816421</td>\n",
              "      <td>1.074996</td>\n",
              "      <td>1</td>\n",
              "    </tr>\n",
              "    <tr>\n",
              "      <th>2</th>\n",
              "      <td>0.411804</td>\n",
              "      <td>5.295975</td>\n",
              "      <td>8.425201</td>\n",
              "      <td>-0.184357</td>\n",
              "      <td>5.154709</td>\n",
              "      <td>9.696518</td>\n",
              "      <td>-0.596161</td>\n",
              "      <td>-0.141266</td>\n",
              "      <td>1.271317</td>\n",
              "      <td>0.533890</td>\n",
              "      <td>1</td>\n",
              "    </tr>\n",
              "    <tr>\n",
              "      <th>3</th>\n",
              "      <td>-0.184357</td>\n",
              "      <td>5.154709</td>\n",
              "      <td>9.696518</td>\n",
              "      <td>-1.309631</td>\n",
              "      <td>5.288788</td>\n",
              "      <td>10.146622</td>\n",
              "      <td>-1.125275</td>\n",
              "      <td>0.134079</td>\n",
              "      <td>0.450104</td>\n",
              "      <td>-0.541092</td>\n",
              "      <td>0</td>\n",
              "    </tr>\n",
              "    <tr>\n",
              "      <th>4</th>\n",
              "      <td>-1.309631</td>\n",
              "      <td>5.288788</td>\n",
              "      <td>10.146622</td>\n",
              "      <td>-0.806839</td>\n",
              "      <td>5.339066</td>\n",
              "      <td>9.153030</td>\n",
              "      <td>0.502792</td>\n",
              "      <td>0.050278</td>\n",
              "      <td>-0.993592</td>\n",
              "      <td>-0.440522</td>\n",
              "      <td>0</td>\n",
              "    </tr>\n",
              "    <tr>\n",
              "      <th>...</th>\n",
              "      <td>...</td>\n",
              "      <td>...</td>\n",
              "      <td>...</td>\n",
              "      <td>...</td>\n",
              "      <td>...</td>\n",
              "      <td>...</td>\n",
              "      <td>...</td>\n",
              "      <td>...</td>\n",
              "      <td>...</td>\n",
              "      <td>...</td>\n",
              "      <td>...</td>\n",
              "    </tr>\n",
              "    <tr>\n",
              "      <th>1512</th>\n",
              "      <td>-2.090134</td>\n",
              "      <td>-7.843399</td>\n",
              "      <td>5.832275</td>\n",
              "      <td>-2.104507</td>\n",
              "      <td>-7.644684</td>\n",
              "      <td>5.585678</td>\n",
              "      <td>-0.014374</td>\n",
              "      <td>0.198715</td>\n",
              "      <td>-0.246597</td>\n",
              "      <td>-0.062256</td>\n",
              "      <td>0</td>\n",
              "    </tr>\n",
              "    <tr>\n",
              "      <th>1513</th>\n",
              "      <td>-2.104507</td>\n",
              "      <td>-7.644684</td>\n",
              "      <td>5.585678</td>\n",
              "      <td>-1.884232</td>\n",
              "      <td>-7.601593</td>\n",
              "      <td>5.892136</td>\n",
              "      <td>0.220276</td>\n",
              "      <td>0.043091</td>\n",
              "      <td>0.306458</td>\n",
              "      <td>0.569824</td>\n",
              "      <td>1</td>\n",
              "    </tr>\n",
              "    <tr>\n",
              "      <th>1514</th>\n",
              "      <td>-1.884232</td>\n",
              "      <td>-7.601593</td>\n",
              "      <td>5.892136</td>\n",
              "      <td>-1.738190</td>\n",
              "      <td>-7.625534</td>\n",
              "      <td>6.349426</td>\n",
              "      <td>0.146042</td>\n",
              "      <td>-0.023941</td>\n",
              "      <td>0.457291</td>\n",
              "      <td>0.579392</td>\n",
              "      <td>1</td>\n",
              "    </tr>\n",
              "    <tr>\n",
              "      <th>1515</th>\n",
              "      <td>-1.738190</td>\n",
              "      <td>-7.625534</td>\n",
              "      <td>6.349426</td>\n",
              "      <td>-1.491592</td>\n",
              "      <td>-7.457931</td>\n",
              "      <td>6.332657</td>\n",
              "      <td>0.246597</td>\n",
              "      <td>0.167603</td>\n",
              "      <td>-0.016769</td>\n",
              "      <td>0.397430</td>\n",
              "      <td>1</td>\n",
              "    </tr>\n",
              "    <tr>\n",
              "      <th>1516</th>\n",
              "      <td>-1.491592</td>\n",
              "      <td>-7.457931</td>\n",
              "      <td>6.332657</td>\n",
              "      <td>-1.517929</td>\n",
              "      <td>-7.445969</td>\n",
              "      <td>6.157883</td>\n",
              "      <td>-0.026337</td>\n",
              "      <td>0.011963</td>\n",
              "      <td>-0.174774</td>\n",
              "      <td>-0.189148</td>\n",
              "      <td>0</td>\n",
              "    </tr>\n",
              "  </tbody>\n",
              "</table>\n",
              "<p>1517 rows × 11 columns</p>\n",
              "</div>"
            ],
            "text/plain": [
              "        X_awal    Y_awal     Z_awal  ...   Delta_Z  Total_Delta  Target\n",
              "0    -1.007965  5.667069   7.357376  ...  0.251404     1.041504       1\n",
              "1    -0.086197  5.535400   7.608780  ...  0.816421     1.074996       1\n",
              "2     0.411804  5.295975   8.425201  ...  1.271317     0.533890       1\n",
              "3    -0.184357  5.154709   9.696518  ...  0.450104    -0.541092       0\n",
              "4    -1.309631  5.288788  10.146622  ... -0.993592    -0.440522       0\n",
              "...        ...       ...        ...  ...       ...          ...     ...\n",
              "1512 -2.090134 -7.843399   5.832275  ... -0.246597    -0.062256       0\n",
              "1513 -2.104507 -7.644684   5.585678  ...  0.306458     0.569824       1\n",
              "1514 -1.884232 -7.601593   5.892136  ...  0.457291     0.579392       1\n",
              "1515 -1.738190 -7.625534   6.349426  ... -0.016769     0.397430       1\n",
              "1516 -1.491592 -7.457931   6.332657  ... -0.174774    -0.189148       0\n",
              "\n",
              "[1517 rows x 11 columns]"
            ]
          },
          "metadata": {},
          "execution_count": 64
        }
      ]
    },
    {
      "cell_type": "markdown",
      "metadata": {
        "id": "iwTQ5x-4UOrv"
      },
      "source": [
        "# Data Description dan analisa"
      ]
    },
    {
      "cell_type": "code",
      "metadata": {
        "id": "I3d7P7DITtdy",
        "colab": {
          "base_uri": "https://localhost:8080/"
        },
        "outputId": "3f0585fd-6ec3-4248-90a9-dac42307446f"
      },
      "source": [
        "# melihat tipe dari tiap kolom di dataframe\n",
        "df.info()"
      ],
      "execution_count": 65,
      "outputs": [
        {
          "output_type": "stream",
          "name": "stdout",
          "text": [
            "<class 'pandas.core.frame.DataFrame'>\n",
            "RangeIndex: 1517 entries, 0 to 1516\n",
            "Data columns (total 11 columns):\n",
            " #   Column       Non-Null Count  Dtype  \n",
            "---  ------       --------------  -----  \n",
            " 0   X_awal       1517 non-null   float64\n",
            " 1   Y_awal       1517 non-null   float64\n",
            " 2   Z_awal       1517 non-null   float64\n",
            " 3   X_akhir      1517 non-null   float64\n",
            " 4   Y_akhir      1517 non-null   float64\n",
            " 5   Z_akhir      1517 non-null   float64\n",
            " 6   Delta_X      1517 non-null   float64\n",
            " 7   Delta_Y      1517 non-null   float64\n",
            " 8   Delta_Z      1517 non-null   float64\n",
            " 9   Total_Delta  1517 non-null   float64\n",
            " 10  Target       1517 non-null   int64  \n",
            "dtypes: float64(10), int64(1)\n",
            "memory usage: 130.5 KB\n"
          ]
        }
      ]
    },
    {
      "cell_type": "code",
      "metadata": {
        "id": "22alFAorUVej",
        "colab": {
          "base_uri": "https://localhost:8080/",
          "height": 300
        },
        "outputId": "d30eb4c9-c134-4027-94e9-7717a9fc2787"
      },
      "source": [
        "# melihat persebaran data dari setiap kolom, seperti variance dan std\n",
        "df.describe()"
      ],
      "execution_count": 66,
      "outputs": [
        {
          "output_type": "execute_result",
          "data": {
            "text/html": [
              "<div>\n",
              "<style scoped>\n",
              "    .dataframe tbody tr th:only-of-type {\n",
              "        vertical-align: middle;\n",
              "    }\n",
              "\n",
              "    .dataframe tbody tr th {\n",
              "        vertical-align: top;\n",
              "    }\n",
              "\n",
              "    .dataframe thead th {\n",
              "        text-align: right;\n",
              "    }\n",
              "</style>\n",
              "<table border=\"1\" class=\"dataframe\">\n",
              "  <thead>\n",
              "    <tr style=\"text-align: right;\">\n",
              "      <th></th>\n",
              "      <th>X_awal</th>\n",
              "      <th>Y_awal</th>\n",
              "      <th>Z_awal</th>\n",
              "      <th>X_akhir</th>\n",
              "      <th>Y_akhir</th>\n",
              "      <th>Z_akhir</th>\n",
              "      <th>Delta_X</th>\n",
              "      <th>Delta_Y</th>\n",
              "      <th>Delta_Z</th>\n",
              "      <th>Total_Delta</th>\n",
              "      <th>Target</th>\n",
              "    </tr>\n",
              "  </thead>\n",
              "  <tbody>\n",
              "    <tr>\n",
              "      <th>count</th>\n",
              "      <td>1517.000000</td>\n",
              "      <td>1517.000000</td>\n",
              "      <td>1517.000000</td>\n",
              "      <td>1517.000000</td>\n",
              "      <td>1517.000000</td>\n",
              "      <td>1517.000000</td>\n",
              "      <td>1517.000000</td>\n",
              "      <td>1517.000000</td>\n",
              "      <td>1517.000000</td>\n",
              "      <td>1517.000000</td>\n",
              "      <td>1517.000000</td>\n",
              "    </tr>\n",
              "    <tr>\n",
              "      <th>mean</th>\n",
              "      <td>-0.420510</td>\n",
              "      <td>-6.313030</td>\n",
              "      <td>6.214402</td>\n",
              "      <td>-0.420846</td>\n",
              "      <td>-6.321674</td>\n",
              "      <td>6.213611</td>\n",
              "      <td>-0.000336</td>\n",
              "      <td>-0.008644</td>\n",
              "      <td>-0.000791</td>\n",
              "      <td>-0.009771</td>\n",
              "      <td>0.504285</td>\n",
              "    </tr>\n",
              "    <tr>\n",
              "      <th>std</th>\n",
              "      <td>3.362310</td>\n",
              "      <td>2.947922</td>\n",
              "      <td>1.273177</td>\n",
              "      <td>3.362394</td>\n",
              "      <td>2.931952</td>\n",
              "      <td>1.272839</td>\n",
              "      <td>1.094867</td>\n",
              "      <td>0.842915</td>\n",
              "      <td>0.929477</td>\n",
              "      <td>1.990989</td>\n",
              "      <td>0.500147</td>\n",
              "    </tr>\n",
              "    <tr>\n",
              "      <th>min</th>\n",
              "      <td>-4.642364</td>\n",
              "      <td>-14.858414</td>\n",
              "      <td>-3.584122</td>\n",
              "      <td>-4.642364</td>\n",
              "      <td>-14.858414</td>\n",
              "      <td>-3.584122</td>\n",
              "      <td>-14.623779</td>\n",
              "      <td>-9.176971</td>\n",
              "      <td>-15.476120</td>\n",
              "      <td>-39.276871</td>\n",
              "      <td>0.000000</td>\n",
              "    </tr>\n",
              "    <tr>\n",
              "      <th>25%</th>\n",
              "      <td>-1.867477</td>\n",
              "      <td>-7.237671</td>\n",
              "      <td>6.009445</td>\n",
              "      <td>-1.867477</td>\n",
              "      <td>-7.240066</td>\n",
              "      <td>6.009445</td>\n",
              "      <td>-0.088592</td>\n",
              "      <td>-0.093369</td>\n",
              "      <td>-0.095764</td>\n",
              "      <td>-0.210708</td>\n",
              "      <td>0.000000</td>\n",
              "    </tr>\n",
              "    <tr>\n",
              "      <th>50%</th>\n",
              "      <td>-1.740585</td>\n",
              "      <td>-7.089233</td>\n",
              "      <td>6.550537</td>\n",
              "      <td>-1.740585</td>\n",
              "      <td>-7.089233</td>\n",
              "      <td>6.550537</td>\n",
              "      <td>-0.007187</td>\n",
              "      <td>-0.011963</td>\n",
              "      <td>0.004791</td>\n",
              "      <td>0.002411</td>\n",
              "      <td>1.000000</td>\n",
              "    </tr>\n",
              "    <tr>\n",
              "      <th>75%</th>\n",
              "      <td>-1.553833</td>\n",
              "      <td>-6.952759</td>\n",
              "      <td>6.667847</td>\n",
              "      <td>-1.553833</td>\n",
              "      <td>-6.955154</td>\n",
              "      <td>6.667847</td>\n",
              "      <td>0.083801</td>\n",
              "      <td>0.098160</td>\n",
              "      <td>0.090988</td>\n",
              "      <td>0.205887</td>\n",
              "      <td>1.000000</td>\n",
              "    </tr>\n",
              "    <tr>\n",
              "      <th>max</th>\n",
              "      <td>28.036102</td>\n",
              "      <td>6.768402</td>\n",
              "      <td>21.131226</td>\n",
              "      <td>28.036102</td>\n",
              "      <td>6.768402</td>\n",
              "      <td>21.131226</td>\n",
              "      <td>10.989379</td>\n",
              "      <td>4.764466</td>\n",
              "      <td>11.032486</td>\n",
              "      <td>20.851091</td>\n",
              "      <td>1.000000</td>\n",
              "    </tr>\n",
              "  </tbody>\n",
              "</table>\n",
              "</div>"
            ],
            "text/plain": [
              "            X_awal       Y_awal  ...  Total_Delta       Target\n",
              "count  1517.000000  1517.000000  ...  1517.000000  1517.000000\n",
              "mean     -0.420510    -6.313030  ...    -0.009771     0.504285\n",
              "std       3.362310     2.947922  ...     1.990989     0.500147\n",
              "min      -4.642364   -14.858414  ...   -39.276871     0.000000\n",
              "25%      -1.867477    -7.237671  ...    -0.210708     0.000000\n",
              "50%      -1.740585    -7.089233  ...     0.002411     1.000000\n",
              "75%      -1.553833    -6.952759  ...     0.205887     1.000000\n",
              "max      28.036102     6.768402  ...    20.851091     1.000000\n",
              "\n",
              "[8 rows x 11 columns]"
            ]
          },
          "metadata": {},
          "execution_count": 66
        }
      ]
    },
    {
      "cell_type": "code",
      "metadata": {
        "id": "9NxMGsAyUXjP",
        "colab": {
          "base_uri": "https://localhost:8080/"
        },
        "outputId": "16163106-7ae9-44c6-a35e-66713ed3da3d"
      },
      "source": [
        "# melihat jumlah missing value\n",
        "df.isna().sum()"
      ],
      "execution_count": 67,
      "outputs": [
        {
          "output_type": "execute_result",
          "data": {
            "text/plain": [
              "X_awal         0\n",
              "Y_awal         0\n",
              "Z_awal         0\n",
              "X_akhir        0\n",
              "Y_akhir        0\n",
              "Z_akhir        0\n",
              "Delta_X        0\n",
              "Delta_Y        0\n",
              "Delta_Z        0\n",
              "Total_Delta    0\n",
              "Target         0\n",
              "dtype: int64"
            ]
          },
          "metadata": {},
          "execution_count": 67
        }
      ]
    },
    {
      "cell_type": "code",
      "metadata": {
        "id": "mwUyqM74I1YQ",
        "colab": {
          "base_uri": "https://localhost:8080/",
          "height": 50
        },
        "outputId": "f9b24c09-8118-4b7d-c9c6-a892aed946a2"
      },
      "source": [
        "# melihat data yang memiliki missing value\n",
        "df[df.isna().any(axis=1)]"
      ],
      "execution_count": 68,
      "outputs": [
        {
          "output_type": "execute_result",
          "data": {
            "text/html": [
              "<div>\n",
              "<style scoped>\n",
              "    .dataframe tbody tr th:only-of-type {\n",
              "        vertical-align: middle;\n",
              "    }\n",
              "\n",
              "    .dataframe tbody tr th {\n",
              "        vertical-align: top;\n",
              "    }\n",
              "\n",
              "    .dataframe thead th {\n",
              "        text-align: right;\n",
              "    }\n",
              "</style>\n",
              "<table border=\"1\" class=\"dataframe\">\n",
              "  <thead>\n",
              "    <tr style=\"text-align: right;\">\n",
              "      <th></th>\n",
              "      <th>X_awal</th>\n",
              "      <th>Y_awal</th>\n",
              "      <th>Z_awal</th>\n",
              "      <th>X_akhir</th>\n",
              "      <th>Y_akhir</th>\n",
              "      <th>Z_akhir</th>\n",
              "      <th>Delta_X</th>\n",
              "      <th>Delta_Y</th>\n",
              "      <th>Delta_Z</th>\n",
              "      <th>Total_Delta</th>\n",
              "      <th>Target</th>\n",
              "    </tr>\n",
              "  </thead>\n",
              "  <tbody>\n",
              "  </tbody>\n",
              "</table>\n",
              "</div>"
            ],
            "text/plain": [
              "Empty DataFrame\n",
              "Columns: [X_awal, Y_awal, Z_awal, X_akhir, Y_akhir, Z_akhir, Delta_X, Delta_Y, Delta_Z, Total_Delta, Target]\n",
              "Index: []"
            ]
          },
          "metadata": {},
          "execution_count": 68
        }
      ]
    },
    {
      "cell_type": "code",
      "metadata": {
        "id": "F8CLJnVxXw3o",
        "colab": {
          "base_uri": "https://localhost:8080/"
        },
        "outputId": "378e4407-5509-45dd-f44f-687662b29cc6"
      },
      "source": [
        "# melihat jumlah setiap kelas di kolom target\n",
        "df.count()"
      ],
      "execution_count": 69,
      "outputs": [
        {
          "output_type": "execute_result",
          "data": {
            "text/plain": [
              "X_awal         1517\n",
              "Y_awal         1517\n",
              "Z_awal         1517\n",
              "X_akhir        1517\n",
              "Y_akhir        1517\n",
              "Z_akhir        1517\n",
              "Delta_X        1517\n",
              "Delta_Y        1517\n",
              "Delta_Z        1517\n",
              "Total_Delta    1517\n",
              "Target         1517\n",
              "dtype: int64"
            ]
          },
          "metadata": {},
          "execution_count": 69
        }
      ]
    },
    {
      "cell_type": "markdown",
      "metadata": {
        "id": "MGCBpagrXpl4"
      },
      "source": [
        "# PraProses\n"
      ]
    },
    {
      "cell_type": "markdown",
      "metadata": {
        "id": "4LYBZR6GkYOI"
      },
      "source": [
        "`Ini kalian bisa melakukan pra proses menyesuaikan kondisi data.\n",
        "Beberapa masalah yang harus diatasi:\n",
        "Missing Value\n",
        "Extreme Value (outlier)\n",
        "Encoding atribut kateogrikal\n",
        "Normalisasi\n",
        "Feature engineering\n",
        "dll.\n",
        "Intinya menyesuaikan problem!`"
      ]
    },
    {
      "cell_type": "markdown",
      "metadata": {
        "id": "XA6dvveFJWMP"
      },
      "source": [
        "## Handling Missing Value"
      ]
    },
    {
      "cell_type": "code",
      "metadata": {
        "id": "LLD6MI7OJVTz",
        "colab": {
          "base_uri": "https://localhost:8080/"
        },
        "outputId": "bd7b9b3b-2748-44dd-d799-e4f929c47334"
      },
      "source": [
        "df.mean()"
      ],
      "execution_count": 70,
      "outputs": [
        {
          "output_type": "execute_result",
          "data": {
            "text/plain": [
              "X_awal        -0.420510\n",
              "Y_awal        -6.313030\n",
              "Z_awal         6.214402\n",
              "X_akhir       -0.420846\n",
              "Y_akhir       -6.321674\n",
              "Z_akhir        6.213611\n",
              "Delta_X       -0.000336\n",
              "Delta_Y       -0.008644\n",
              "Delta_Z       -0.000791\n",
              "Total_Delta   -0.009771\n",
              "Target         0.504285\n",
              "dtype: float64"
            ]
          },
          "metadata": {},
          "execution_count": 70
        }
      ]
    },
    {
      "cell_type": "code",
      "metadata": {
        "id": "3XrRtlWrJVlU"
      },
      "source": [
        "# https://pandas.pydata.org/pandas-docs/stable/reference/api/pandas.DataFrame.fillna.html\n",
        "df.fillna(df.mean(),inplace=True)"
      ],
      "execution_count": 71,
      "outputs": []
    },
    {
      "cell_type": "code",
      "metadata": {
        "id": "k3oiqTLjKaeJ",
        "colab": {
          "base_uri": "https://localhost:8080/"
        },
        "outputId": "2e1b24d3-9050-4100-ae45-e7c8db5586f9"
      },
      "source": [
        "df.isna().sum()"
      ],
      "execution_count": 72,
      "outputs": [
        {
          "output_type": "execute_result",
          "data": {
            "text/plain": [
              "X_awal         0\n",
              "Y_awal         0\n",
              "Z_awal         0\n",
              "X_akhir        0\n",
              "Y_akhir        0\n",
              "Z_akhir        0\n",
              "Delta_X        0\n",
              "Delta_Y        0\n",
              "Delta_Z        0\n",
              "Total_Delta    0\n",
              "Target         0\n",
              "dtype: int64"
            ]
          },
          "metadata": {},
          "execution_count": 72
        }
      ]
    },
    {
      "cell_type": "markdown",
      "metadata": {
        "id": "ILBbHoydZvqH"
      },
      "source": [
        "# Train Test Split\n"
      ]
    },
    {
      "cell_type": "code",
      "metadata": {
        "id": "1Pb63vNnZ7M6",
        "colab": {
          "base_uri": "https://localhost:8080/",
          "height": 112
        },
        "outputId": "d93faca2-b3c5-4018-b0ca-ec722483e3d7"
      },
      "source": [
        "# X adalah kolom attribut tanpa kolom target\n",
        "X=df[['X_awal','Y_awal','Z_awal','X_akhir','Y_akhir','Z_akhir']]\n",
        "X.head(2)"
      ],
      "execution_count": 73,
      "outputs": [
        {
          "output_type": "execute_result",
          "data": {
            "text/html": [
              "<div>\n",
              "<style scoped>\n",
              "    .dataframe tbody tr th:only-of-type {\n",
              "        vertical-align: middle;\n",
              "    }\n",
              "\n",
              "    .dataframe tbody tr th {\n",
              "        vertical-align: top;\n",
              "    }\n",
              "\n",
              "    .dataframe thead th {\n",
              "        text-align: right;\n",
              "    }\n",
              "</style>\n",
              "<table border=\"1\" class=\"dataframe\">\n",
              "  <thead>\n",
              "    <tr style=\"text-align: right;\">\n",
              "      <th></th>\n",
              "      <th>X_awal</th>\n",
              "      <th>Y_awal</th>\n",
              "      <th>Z_awal</th>\n",
              "      <th>X_akhir</th>\n",
              "      <th>Y_akhir</th>\n",
              "      <th>Z_akhir</th>\n",
              "    </tr>\n",
              "  </thead>\n",
              "  <tbody>\n",
              "    <tr>\n",
              "      <th>0</th>\n",
              "      <td>-1.007965</td>\n",
              "      <td>5.667069</td>\n",
              "      <td>7.357376</td>\n",
              "      <td>-0.086197</td>\n",
              "      <td>5.535400</td>\n",
              "      <td>7.608780</td>\n",
              "    </tr>\n",
              "    <tr>\n",
              "      <th>1</th>\n",
              "      <td>-0.086197</td>\n",
              "      <td>5.535400</td>\n",
              "      <td>7.608780</td>\n",
              "      <td>0.411804</td>\n",
              "      <td>5.295975</td>\n",
              "      <td>8.425201</td>\n",
              "    </tr>\n",
              "  </tbody>\n",
              "</table>\n",
              "</div>"
            ],
            "text/plain": [
              "     X_awal    Y_awal    Z_awal   X_akhir   Y_akhir   Z_akhir\n",
              "0 -1.007965  5.667069  7.357376 -0.086197  5.535400  7.608780\n",
              "1 -0.086197  5.535400  7.608780  0.411804  5.295975  8.425201"
            ]
          },
          "metadata": {},
          "execution_count": 73
        }
      ]
    },
    {
      "cell_type": "code",
      "metadata": {
        "id": "1RqH1DSZZ16R",
        "colab": {
          "base_uri": "https://localhost:8080/"
        },
        "outputId": "ea7c3d29-3c04-4722-c668-8baecf6db339"
      },
      "source": [
        "# y adalah kolom yang hanya target\n",
        "y=df.pop('Target')\n",
        "y.head(2)"
      ],
      "execution_count": 74,
      "outputs": [
        {
          "output_type": "execute_result",
          "data": {
            "text/plain": [
              "0    1\n",
              "1    1\n",
              "Name: Target, dtype: int64"
            ]
          },
          "metadata": {},
          "execution_count": 74
        }
      ]
    },
    {
      "cell_type": "code",
      "metadata": {
        "id": "utastMf4ZxnW"
      },
      "source": [
        "# untuk memisahkan data train dan test -> https://scikit-learn.org/stable/modules/generated/sklearn.model_selection.train_test_split.html\n",
        "from sklearn.model_selection import train_test_split\n",
        "\n",
        "# param stratify : data displit secara stratified -> https://scikit-learn.org/stable/modules/cross_validation.html#stratification\n",
        "X_train, X_test, y_train, y_test = train_test_split(X, y, test_size=0.2, random_state=77) "
      ],
      "execution_count": 75,
      "outputs": []
    },
    {
      "cell_type": "markdown",
      "metadata": {
        "id": "kyqcD3SNazE0"
      },
      "source": [
        "# Normalisasi"
      ]
    },
    {
      "cell_type": "code",
      "metadata": {
        "id": "1Qn9I9ura0eB"
      },
      "source": [
        "# untuk mengatasi perbedaan nilai antar kolom -> https://scikit-learn.org/stable/modules/generated/sklearn.preprocessing.StandardScaler.html\n",
        "#from sklearn.preprocessing import StandardScaler\n",
        "\n",
        "#scaler = StandardScaler()\n",
        "#X_train_scaled = scaler.fit_transform(X_train) #tanpa target\n",
        "#X_test_scaled = scaler.transform(X_test)"
      ],
      "execution_count": 76,
      "outputs": []
    },
    {
      "cell_type": "markdown",
      "metadata": {
        "id": "WFnD_eQ1XSSJ"
      },
      "source": [
        "# Evaluation"
      ]
    },
    {
      "cell_type": "code",
      "metadata": {
        "id": "ASr4sM4OVXms"
      },
      "source": [
        "# function untuk melakukan perhitungan seluruh metric evaluasi -> https://scikit-learn.org/stable/modules/model_evaluation.html#classification-metrics\n",
        "from sklearn.metrics import make_scorer, accuracy_score, precision_score, recall_score, f1_score\n",
        "def get_metrics(true_labels, predicted_labels):\n",
        "    acc=np.round(accuracy_score(true_labels, predicted_labels),4)\n",
        "    prec=np.round(precision_score(true_labels, predicted_labels,average='weighted'),4)\n",
        "    recall=np.round(recall_score(true_labels, predicted_labels,average='weighted'),4)\n",
        "    f1=np.round(f1_score(true_labels, predicted_labels,average='weighted'),4)\n",
        "    return [acc,prec,recall,f1]"
      ],
      "execution_count": 77,
      "outputs": []
    },
    {
      "cell_type": "markdown",
      "metadata": {
        "id": "ZL5rOhnOavaZ"
      },
      "source": [
        "# Model"
      ]
    },
    {
      "cell_type": "code",
      "metadata": {
        "id": "XiI6-4tFhFNB"
      },
      "source": [
        "kolom=['Model','Acc','Precision','Recall','F1']\n",
        "HASIL_AKHIR=pd.DataFrame(columns=kolom)"
      ],
      "execution_count": 78,
      "outputs": []
    },
    {
      "cell_type": "markdown",
      "metadata": {
        "id": "Hz_eGI2LbJA6"
      },
      "source": [
        "## K-NN"
      ]
    },
    {
      "cell_type": "code",
      "metadata": {
        "id": "ov60kBOEbUIX",
        "colab": {
          "base_uri": "https://localhost:8080/"
        },
        "outputId": "bf50eaf2-57ed-4e5f-eec5-c06e84b8149b"
      },
      "source": [
        "# fit model KNN -> https://scikit-learn.org/stable/modules/generated/sklearn.neighbors.KNeighborsClassifier.html\n",
        "from sklearn.neighbors import KNeighborsClassifier\n",
        "knn = KNeighborsClassifier() # default nilai k = 5\n",
        "knn.fit(X_train, y_train)"
      ],
      "execution_count": 79,
      "outputs": [
        {
          "output_type": "execute_result",
          "data": {
            "text/plain": [
              "KNeighborsClassifier()"
            ]
          },
          "metadata": {},
          "execution_count": 79
        }
      ]
    },
    {
      "cell_type": "code",
      "metadata": {
        "id": "iZjJ7DZgbaMP"
      },
      "source": [
        "# predict model ke data test\n",
        "y_pred_knn=knn.predict(X_test)"
      ],
      "execution_count": 80,
      "outputs": []
    },
    {
      "cell_type": "code",
      "metadata": {
        "id": "rr2U2HHzbhb-",
        "colab": {
          "base_uri": "https://localhost:8080/"
        },
        "outputId": "090da4cb-912f-491e-aea4-20f594cf46db"
      },
      "source": [
        "# evaluation score untuk model KNN\n",
        "get_metrics(y_test,y_pred_knn)"
      ],
      "execution_count": 81,
      "outputs": [
        {
          "output_type": "execute_result",
          "data": {
            "text/plain": [
              "[0.8289, 0.8299, 0.8289, 0.8291]"
            ]
          },
          "metadata": {},
          "execution_count": 81
        }
      ]
    },
    {
      "cell_type": "code",
      "metadata": {
        "id": "Jas5Kx6ZhUBX"
      },
      "source": [
        "hasil=['knn']+get_metrics(y_test,y_pred_knn)"
      ],
      "execution_count": 82,
      "outputs": []
    },
    {
      "cell_type": "code",
      "metadata": {
        "id": "cjv3T-jShcLT"
      },
      "source": [
        "# concat ke dataframe perbandingan score\n",
        "HASIL_AKHIR=pd.concat([HASIL_AKHIR,pd.DataFrame([hasil],columns=kolom)])"
      ],
      "execution_count": 83,
      "outputs": []
    },
    {
      "cell_type": "markdown",
      "metadata": {
        "id": "2rQfGeVLktBa"
      },
      "source": [
        "## Hasil Akhir"
      ]
    },
    {
      "cell_type": "code",
      "metadata": {
        "id": "ONG5zLfGikPG",
        "colab": {
          "base_uri": "https://localhost:8080/",
          "height": 81
        },
        "outputId": "adf833b7-4d1c-4a9f-eeb0-0fa90c18ab26"
      },
      "source": [
        "# dataframe perbandingan model\n",
        "from IPython.display import display \n",
        "display(HASIL_AKHIR)"
      ],
      "execution_count": 84,
      "outputs": [
        {
          "output_type": "display_data",
          "data": {
            "text/html": [
              "<div>\n",
              "<style scoped>\n",
              "    .dataframe tbody tr th:only-of-type {\n",
              "        vertical-align: middle;\n",
              "    }\n",
              "\n",
              "    .dataframe tbody tr th {\n",
              "        vertical-align: top;\n",
              "    }\n",
              "\n",
              "    .dataframe thead th {\n",
              "        text-align: right;\n",
              "    }\n",
              "</style>\n",
              "<table border=\"1\" class=\"dataframe\">\n",
              "  <thead>\n",
              "    <tr style=\"text-align: right;\">\n",
              "      <th></th>\n",
              "      <th>Model</th>\n",
              "      <th>Acc</th>\n",
              "      <th>Precision</th>\n",
              "      <th>Recall</th>\n",
              "      <th>F1</th>\n",
              "    </tr>\n",
              "  </thead>\n",
              "  <tbody>\n",
              "    <tr>\n",
              "      <th>0</th>\n",
              "      <td>knn</td>\n",
              "      <td>0.8289</td>\n",
              "      <td>0.8299</td>\n",
              "      <td>0.8289</td>\n",
              "      <td>0.8291</td>\n",
              "    </tr>\n",
              "  </tbody>\n",
              "</table>\n",
              "</div>"
            ],
            "text/plain": [
              "  Model     Acc  Precision  Recall      F1\n",
              "0   knn  0.8289     0.8299  0.8289  0.8291"
            ]
          },
          "metadata": {}
        }
      ]
    },
    {
      "cell_type": "markdown",
      "metadata": {
        "id": "0rk8Vh6me4Vs"
      },
      "source": [
        "# Dengan Hasil selain dari Dataset sama\n",
        "\n",
        "\n"
      ]
    },
    {
      "cell_type": "code",
      "metadata": {
        "id": "KPbnCOc5fEO0"
      },
      "source": [
        "# melakukan load dari csv baru ke dalam bentuk pandas dataframe\n",
        "df=pd.read_csv('Data_Tester_2.csv')"
      ],
      "execution_count": 85,
      "outputs": []
    },
    {
      "cell_type": "code",
      "metadata": {
        "id": "OizCUkIFfjjE"
      },
      "source": [
        "# param stratify : data displit secara stratified -> https://scikit-learn.org/stable/modules/cross_validation.html#stratification\n",
        "X_train, X_test, y_train, y_test = train_test_split(X, y, test_size=0.1) "
      ],
      "execution_count": 86,
      "outputs": []
    },
    {
      "cell_type": "code",
      "metadata": {
        "id": "vR4LLjrGfp1e"
      },
      "source": [
        "# predict model ke data test\n",
        "y_pred_knn=knn.predict(X_test)"
      ],
      "execution_count": 87,
      "outputs": []
    },
    {
      "cell_type": "code",
      "metadata": {
        "id": "Vp4vh86bfuaU",
        "colab": {
          "base_uri": "https://localhost:8080/"
        },
        "outputId": "5f6184af-028d-4d13-8a0d-12b588879138"
      },
      "source": [
        "# evaluation score untuk model KNN\n",
        "get_metrics(y_test,y_pred_knn)"
      ],
      "execution_count": 88,
      "outputs": [
        {
          "output_type": "execute_result",
          "data": {
            "text/plain": [
              "[0.9079, 0.9089, 0.9079, 0.9078]"
            ]
          },
          "metadata": {},
          "execution_count": 88
        }
      ]
    },
    {
      "cell_type": "code",
      "metadata": {
        "id": "HDm7igaufv-u"
      },
      "source": [
        "hasil=['knn']+get_metrics(y_test,y_pred_knn)"
      ],
      "execution_count": 89,
      "outputs": []
    },
    {
      "cell_type": "code",
      "metadata": {
        "id": "6zvlGsaCfxoA"
      },
      "source": [
        "# concat ke dataframe perbandingan score\n",
        "HASIL_AKHIR=pd.concat([HASIL_AKHIR,pd.DataFrame([hasil],columns=kolom)])"
      ],
      "execution_count": 90,
      "outputs": []
    },
    {
      "cell_type": "code",
      "metadata": {
        "id": "qvGsGqPTf1h1",
        "colab": {
          "base_uri": "https://localhost:8080/",
          "height": 112
        },
        "outputId": "9eb59075-1f72-41cb-b6cf-9cc073515ebc"
      },
      "source": [
        "display(HASIL_AKHIR)"
      ],
      "execution_count": 91,
      "outputs": [
        {
          "output_type": "display_data",
          "data": {
            "text/html": [
              "<div>\n",
              "<style scoped>\n",
              "    .dataframe tbody tr th:only-of-type {\n",
              "        vertical-align: middle;\n",
              "    }\n",
              "\n",
              "    .dataframe tbody tr th {\n",
              "        vertical-align: top;\n",
              "    }\n",
              "\n",
              "    .dataframe thead th {\n",
              "        text-align: right;\n",
              "    }\n",
              "</style>\n",
              "<table border=\"1\" class=\"dataframe\">\n",
              "  <thead>\n",
              "    <tr style=\"text-align: right;\">\n",
              "      <th></th>\n",
              "      <th>Model</th>\n",
              "      <th>Acc</th>\n",
              "      <th>Precision</th>\n",
              "      <th>Recall</th>\n",
              "      <th>F1</th>\n",
              "    </tr>\n",
              "  </thead>\n",
              "  <tbody>\n",
              "    <tr>\n",
              "      <th>0</th>\n",
              "      <td>knn</td>\n",
              "      <td>0.8289</td>\n",
              "      <td>0.8299</td>\n",
              "      <td>0.8289</td>\n",
              "      <td>0.8291</td>\n",
              "    </tr>\n",
              "    <tr>\n",
              "      <th>0</th>\n",
              "      <td>knn</td>\n",
              "      <td>0.9079</td>\n",
              "      <td>0.9089</td>\n",
              "      <td>0.9079</td>\n",
              "      <td>0.9078</td>\n",
              "    </tr>\n",
              "  </tbody>\n",
              "</table>\n",
              "</div>"
            ],
            "text/plain": [
              "  Model     Acc  Precision  Recall      F1\n",
              "0   knn  0.8289     0.8299  0.8289  0.8291\n",
              "0   knn  0.9079     0.9089  0.9079  0.9078"
            ]
          },
          "metadata": {}
        }
      ]
    }
  ]
}